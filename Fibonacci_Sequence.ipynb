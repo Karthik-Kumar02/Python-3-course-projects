{
 "cells": [
  {
   "cell_type": "code",
   "execution_count": 11,
   "metadata": {},
   "outputs": [],
   "source": [
    "def fibbon(n):\n",
    "    \n",
    "    assert n > 0\n",
    "    \n",
    "    #initializing variable\n",
    "    ser =[1]\n",
    "    \n",
    "    #logic\n",
    "    while len(ser) < n:\n",
    "        if len(ser) == 1:\n",
    "            ser.append(1)\n",
    "        else:\n",
    "            ser.append(ser[-1] + ser[-2])\n",
    "            \n",
    "    for integer in range(len(ser)):\n",
    "        ser[integer] = str(ser[integer])\n",
    "        \n",
    "    return(', '.join(ser))\n",
    "\n",
    "\n",
    "def seq():\n",
    "    xbig = True\n",
    "    while xbig:\n",
    "        x = int(input(\"how many numbers? \"))\n",
    "        if x > 0:\n",
    "            xbig = False\n",
    "            break\n",
    "        else:\n",
    "            xbig = True\n",
    "            print('please enter a number greater than zero')\n",
    "            \n",
    "    print(fibbon(x))\n",
    "    "
   ]
  },
  {
   "cell_type": "code",
   "execution_count": 12,
   "metadata": {},
   "outputs": [
    {
     "name": "stdout",
     "output_type": "stream",
     "text": [
      "how many numbers? 0\n",
      "please enter a number greater than zero\n",
      "how many numbers? 5\n",
      "1, 1, 2, 3, 5\n"
     ]
    }
   ],
   "source": [
    "seq()"
   ]
  },
  {
   "cell_type": "code",
   "execution_count": null,
   "metadata": {},
   "outputs": [],
   "source": []
  }
 ],
 "metadata": {
  "kernelspec": {
   "display_name": "Python 3",
   "language": "python",
   "name": "python3"
  },
  "language_info": {
   "codemirror_mode": {
    "name": "ipython",
    "version": 3
   },
   "file_extension": ".py",
   "mimetype": "text/x-python",
   "name": "python",
   "nbconvert_exporter": "python",
   "pygments_lexer": "ipython3",
   "version": "3.7.6"
  }
 },
 "nbformat": 4,
 "nbformat_minor": 4
}
